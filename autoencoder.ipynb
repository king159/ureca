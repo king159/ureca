{
 "cells": [
  {
   "cell_type": "markdown",
   "metadata": {},
   "source": [
    "# Autoencoder"
   ]
  },
  {
   "cell_type": "code",
   "execution_count": 1,
   "metadata": {
    "scrolled": true
   },
   "outputs": [],
   "source": [
    "import time\r\n",
    "import copy\r\n",
    "import random\r\n",
    "import torch\r\n",
    "import torch.nn as nn\r\n",
    "import torch.nn.functional as F\r\n",
    "import numpy as np\r\n",
    "import matplotlib.pyplot as plt\r\n",
    "import torch.optim as optim\r\n",
    "from tqdm.notebook import trange\r\n",
    "from util import topk_acc"
   ]
  },
  {
   "cell_type": "code",
   "execution_count": 2,
   "metadata": {},
   "outputs": [
    {
     "data": {
      "text/plain": [
       "<module 'util' from 'c:\\\\Users\\\\wang\\\\Desktop\\\\URECA\\\\src\\\\util.py'>"
      ]
     },
     "execution_count": 2,
     "metadata": {},
     "output_type": "execute_result"
    }
   ],
   "source": [
    "import importlib\r\n",
    "import util\r\n",
    "importlib.reload(util)"
   ]
  },
  {
   "cell_type": "code",
   "execution_count": 3,
   "metadata": {},
   "outputs": [],
   "source": [
    "torch.manual_seed(0)\r\n",
    "random.seed(0)"
   ]
  },
  {
   "cell_type": "code",
   "execution_count": 11,
   "metadata": {},
   "outputs": [],
   "source": [
    "device = torch.device(\"cuda\")"
   ]
  },
  {
   "cell_type": "code",
   "execution_count": 4,
   "metadata": {},
   "outputs": [],
   "source": [
    "torch.backends.cudnn.benchmark = True"
   ]
  },
  {
   "cell_type": "code",
   "execution_count": 5,
   "metadata": {},
   "outputs": [],
   "source": [
    "# 550s\r\n",
    "data_pt = torch.load('./data/auto_c.pt')"
   ]
  },
  {
   "cell_type": "code",
   "execution_count": 6,
   "metadata": {},
   "outputs": [],
   "source": [
    "num = len(data_pt)"
   ]
  },
  {
   "cell_type": "markdown",
   "metadata": {},
   "source": [
    "# Autoencoder"
   ]
  },
  {
   "cell_type": "code",
   "execution_count": 7,
   "metadata": {},
   "outputs": [],
   "source": [
    "train_set, dev_set = torch.utils.data.random_split(data_pt, [int(num * 0.99), int(num * 0.01)])\r\n",
    "datasets = {'train':train_set, 'dev':dev_set}\r\n",
    "dataset_sizes = {x:len(datasets[x]) for x in ['train', 'dev']} \r\n",
    "dataloaders = {x:torch.utils.data.DataLoader(datasets[x], batch_size=1024, shuffle=True, pin_memory=True) for x in ['train', 'dev']} "
   ]
  },
  {
   "cell_type": "code",
   "execution_count": null,
   "metadata": {},
   "outputs": [],
   "source": [
    "class Autoencoder(nn.Module):\r\n",
    "    def __init__(self):\r\n",
    "        super(Autoencoder, self).__init__()\r\n",
    "        self.encoder = nn.Sequential(\r\n",
    "            self.fc_block(773, 600),\r\n",
    "            self.fc_block(600, 400),\r\n",
    "            self.fc_block(400, 200),\r\n",
    "            self.fc_block(200, 100),\r\n",
    "            )\r\n",
    "        self.decoder = nn.Sequential(\r\n",
    "            self.fc_block(100, 200),\r\n",
    "            self.fc_block(200, 400),\r\n",
    "            self.fc_block(400, 600),\r\n",
    "            self.fc_block(600, 773, final_layer=True),\r\n",
    "            )\r\n",
    "    def fc_block(self, input_dims, output_dims, final_layer=False):\r\n",
    "        if not final_layer:\r\n",
    "            return nn.Sequential(\r\n",
    "                    nn.Linear(input_dims, output_dims),\r\n",
    "                    nn.Dropout(0.1),\r\n",
    "                    nn.Tanh(),\r\n",
    "                    )\r\n",
    "        else:\r\n",
    "            return nn.Sequential(\r\n",
    "                    nn.Linear(input_dims, output_dims),\r\n",
    "                    nn.Dropout(0.1),\r\n",
    "                    nn.Sigmoid(),\r\n",
    "                    )\r\n",
    "    def forward(self, x):\r\n",
    "        x = self.encoder(x)\r\n",
    "        x = self.decoder(x)\r\n",
    "        return x\r\n",
    "\r\n",
    "net = Autoencoder().to(device)"
   ]
  },
  {
   "cell_type": "code",
   "execution_count": null,
   "metadata": {},
   "outputs": [],
   "source": [
    "net.load_state_dict(torch.load('./model/autoencoder.pt'))"
   ]
  },
  {
   "cell_type": "markdown",
   "metadata": {},
   "source": [
    "# Autoencoder"
   ]
  },
  {
   "cell_type": "code",
   "execution_count": null,
   "metadata": {},
   "outputs": [],
   "source": [
    "sta = {x:{'epoch_loss':[]} for x in ['train', 'dev']}"
   ]
  },
  {
   "cell_type": "code",
   "execution_count": null,
   "metadata": {},
   "outputs": [],
   "source": [
    "num_epochs = 20"
   ]
  },
  {
   "cell_type": "code",
   "execution_count": null,
   "metadata": {},
   "outputs": [],
   "source": [
    "criterion = nn.BCELoss()\r\n",
    "optimizer = optim.Adam(net.parameters(), lr = 1e-3)\r\n",
    "scheduler = optim.lr_scheduler.CosineAnnealingLR(optimizer, 4, eta_min=1e-5, last_epoch=-1)\r\n",
    "# warm_up = lambda epoch: epoch / warm_up_epochs if epoch <= warm_up_epochs else 0.5 * (math.cos((epoch - warm_up_epochs) / (num_epochs - warm_up_epochs) * math.pi) + 1)\r\n",
    "# scheduler = tWorch.optim.lr_scheduler.LambdaLR(optimizer, lr_lambda=warm_up)"
   ]
  },
  {
   "cell_type": "code",
   "execution_count": null,
   "metadata": {},
   "outputs": [],
   "source": [
    "best_loss = 100"
   ]
  },
  {
   "cell_type": "code",
   "execution_count": null,
   "metadata": {},
   "outputs": [],
   "source": [
    "for epoch in trange(num_epochs):\r\n",
    "    for phase in ['train', 'dev']:\r\n",
    "        if phase == 'train':\r\n",
    "            net.train()  # Set model to training mode\r\n",
    "        else:\r\n",
    "            net.eval()   # Set model to evaluate mode\r\n",
    "\r\n",
    "        running_loss = 0.0\r\n",
    "\r\n",
    "        for batch in dataloaders[phase]:\r\n",
    "            \r\n",
    "            inputs = batch[0].to(device)\r\n",
    "            # zero the parameter gradients\r\n",
    "            optimizer.zero_grad()\r\n",
    "\r\n",
    "            # forward + backward + optimize\r\n",
    "            with torch.set_grad_enabled(phase == 'train'):\r\n",
    "                outputs = net(inputs)\r\n",
    "                loss = criterion(outputs, inputs)\r\n",
    "                # backward + optimize only if in training phase\r\n",
    "                if phase == 'train':\r\n",
    "                    loss.backward()\r\n",
    "                    optimizer.step()\r\n",
    "\r\n",
    "            running_loss += loss.item() * inputs.size(0)\r\n",
    "\r\n",
    "        if phase == 'train':\r\n",
    "            scheduler.step()\r\n",
    "\r\n",
    "        epoch_loss = running_loss / dataset_sizes[phase]\r\n",
    "\r\n",
    "        # statistics\r\n",
    "        sta[phase]['epoch_loss'].append(epoch_loss)\r\n",
    "        if phase == 'dev':\r\n",
    "            print(epoch_loss, time.strftime(\"%H:%M:%S\", time.localtime()))\r\n",
    "\r\n",
    "        if phase == 'dev' and epoch_loss < best_loss:\r\n",
    "            best_loss = epoch_loss\r\n",
    "            best_net_wts = copy.deepcopy(net.state_dict())"
   ]
  },
  {
   "cell_type": "code",
   "execution_count": null,
   "metadata": {},
   "outputs": [],
   "source": [
    "net.load_state_dict(best_net_wts)"
   ]
  },
  {
   "cell_type": "code",
   "execution_count": null,
   "metadata": {},
   "outputs": [],
   "source": [
    "def plot_sta(sta: dict, interval: int = None, title: str = None) -> None:\r\n",
    "    \"\"\"plot the statistics from the dictionary\"\"\"\r\n",
    "    fig = plt.figure(figsize=(12, 4))\r\n",
    "    fig.suptitle(title, fontsize=14)\r\n",
    "    epochs = len(sta['train']['epoch_loss'])\r\n",
    "    # plot loss\r\n",
    "    t_loss = sta['train']['epoch_loss']\r\n",
    "    d_loss = sta['dev']['epoch_loss']\r\n",
    "    ax = plt.subplot(122)\r\n",
    "    tlline, = plt.plot(np.append(np.roll(t_loss, 1), t_loss[epochs - 1]), color='g')\r\n",
    "    dlline, = plt.plot(np.append(np.roll(d_loss, 1), d_loss[epochs - 1]), linestyle=\":\", color='r')\r\n",
    "    plt.grid(color=\"k\", linestyle=\":\")\r\n",
    "    plt.legend((tlline, dlline), ('train', 'dev'))\r\n",
    "    plt.ylabel('loss')\r\n",
    "    plt.xlabel('iterations')\r\n",
    "    ax.set_xlim(1, epochs)\r\n",
    "    if interval is not None:\r\n",
    "        dim = np.arange(1, epochs + 1, interval)\r\n",
    "        plt.xticks(dim)\r\n",
    "\r\n",
    "    plt.show()"
   ]
  },
  {
   "cell_type": "code",
   "execution_count": null,
   "metadata": {},
   "outputs": [],
   "source": [
    "min(sta['dev']['epoch_loss'])"
   ]
  },
  {
   "cell_type": "code",
   "execution_count": null,
   "metadata": {},
   "outputs": [],
   "source": [
    "plot_sta(sta)"
   ]
  },
  {
   "cell_type": "code",
   "execution_count": null,
   "metadata": {},
   "outputs": [],
   "source": [
    "torch.save(net.state_dict(), './model/autoencoder.pt')"
   ]
  },
  {
   "cell_type": "code",
   "execution_count": null,
   "metadata": {},
   "outputs": [],
   "source": [
    "torch.save(sta, './model/ae_loss.pt')"
   ]
  },
  {
   "cell_type": "markdown",
   "metadata": {},
   "source": [
    "# Classification"
   ]
  },
  {
   "cell_type": "code",
   "execution_count": 8,
   "metadata": {},
   "outputs": [],
   "source": [
    "train_set, dev_set, test_set = torch.utils.data.random_split(data_pt, [int(num * 0.98), int(num * 0.01), int(num * 0.01)])\r\n",
    "datasets = {'train':train_set, 'dev':dev_set, 'test':test_set}\r\n",
    "dataset_sizes = {x:len(datasets[x]) for x in ['train', 'dev','test']} \r\n",
    "dataloaders = {x:torch.utils.data.DataLoader(datasets[x], batch_size=1024,\r\n",
    "shuffle=True, pin_memory=True) for x in ['train', 'dev', 'test']} "
   ]
  },
  {
   "cell_type": "markdown",
   "metadata": {},
   "source": [
    "## autoencoder classifier"
   ]
  },
  {
   "cell_type": "code",
   "execution_count": 12,
   "metadata": {},
   "outputs": [
    {
     "ename": "RuntimeError",
     "evalue": "Error(s) in loading state_dict for Classifier:\n\tMissing key(s) in state_dict: \"fc.0.1.weight\", \"fc.0.1.bias\", \"fc.1.1.weight\", \"fc.1.1.bias\", \"fc.2.0.weight\", \"fc.2.0.bias\". \n\tUnexpected key(s) in state_dict: \"decoder.0.0.weight\", \"decoder.0.0.bias\", \"decoder.1.0.weight\", \"decoder.1.0.bias\", \"decoder.2.0.weight\", \"decoder.2.0.bias\", \"decoder.3.0.weight\", \"decoder.3.0.bias\". ",
     "output_type": "error",
     "traceback": [
      "\u001b[1;31m---------------------------------------------------------------------------\u001b[0m",
      "\u001b[1;31mRuntimeError\u001b[0m                              Traceback (most recent call last)",
      "\u001b[1;32m<ipython-input-12-3679952b7291>\u001b[0m in \u001b[0;36m<module>\u001b[1;34m\u001b[0m\n\u001b[0;32m     37\u001b[0m \u001b[1;33m\u001b[0m\u001b[0m\n\u001b[0;32m     38\u001b[0m \u001b[0mnet\u001b[0m \u001b[1;33m=\u001b[0m \u001b[0mClassifier\u001b[0m\u001b[1;33m(\u001b[0m\u001b[1;33m)\u001b[0m\u001b[1;33m.\u001b[0m\u001b[0mto\u001b[0m\u001b[1;33m(\u001b[0m\u001b[0mdevice\u001b[0m\u001b[1;33m)\u001b[0m\u001b[1;33m\u001b[0m\u001b[1;33m\u001b[0m\u001b[0m\n\u001b[1;32m---> 39\u001b[1;33m \u001b[0mnet\u001b[0m\u001b[1;33m.\u001b[0m\u001b[0mload_state_dict\u001b[0m\u001b[1;33m(\u001b[0m\u001b[0mtorch\u001b[0m\u001b[1;33m.\u001b[0m\u001b[0mload\u001b[0m\u001b[1;33m(\u001b[0m\u001b[1;34m'./model/autoencoder.pt'\u001b[0m\u001b[1;33m)\u001b[0m\u001b[1;33m)\u001b[0m\u001b[1;33m\u001b[0m\u001b[1;33m\u001b[0m\u001b[0m\n\u001b[0m",
      "\u001b[1;32m~\\anaconda3\\lib\\site-packages\\torch\\nn\\modules\\module.py\u001b[0m in \u001b[0;36mload_state_dict\u001b[1;34m(self, state_dict, strict)\u001b[0m\n\u001b[0;32m   1221\u001b[0m \u001b[1;33m\u001b[0m\u001b[0m\n\u001b[0;32m   1222\u001b[0m         \u001b[1;32mif\u001b[0m \u001b[0mlen\u001b[0m\u001b[1;33m(\u001b[0m\u001b[0merror_msgs\u001b[0m\u001b[1;33m)\u001b[0m \u001b[1;33m>\u001b[0m \u001b[1;36m0\u001b[0m\u001b[1;33m:\u001b[0m\u001b[1;33m\u001b[0m\u001b[1;33m\u001b[0m\u001b[0m\n\u001b[1;32m-> 1223\u001b[1;33m             raise RuntimeError('Error(s) in loading state_dict for {}:\\n\\t{}'.format(\n\u001b[0m\u001b[0;32m   1224\u001b[0m                                self.__class__.__name__, \"\\n\\t\".join(error_msgs)))\n\u001b[0;32m   1225\u001b[0m         \u001b[1;32mreturn\u001b[0m \u001b[0m_IncompatibleKeys\u001b[0m\u001b[1;33m(\u001b[0m\u001b[0mmissing_keys\u001b[0m\u001b[1;33m,\u001b[0m \u001b[0munexpected_keys\u001b[0m\u001b[1;33m)\u001b[0m\u001b[1;33m\u001b[0m\u001b[1;33m\u001b[0m\u001b[0m\n",
      "\u001b[1;31mRuntimeError\u001b[0m: Error(s) in loading state_dict for Classifier:\n\tMissing key(s) in state_dict: \"fc.0.1.weight\", \"fc.0.1.bias\", \"fc.1.1.weight\", \"fc.1.1.bias\", \"fc.2.0.weight\", \"fc.2.0.bias\". \n\tUnexpected key(s) in state_dict: \"decoder.0.0.weight\", \"decoder.0.0.bias\", \"decoder.1.0.weight\", \"decoder.1.0.bias\", \"decoder.2.0.weight\", \"decoder.2.0.bias\", \"decoder.3.0.weight\", \"decoder.3.0.bias\". "
     ]
    }
   ],
   "source": [
    "class Classifier(nn.Module):\r\n",
    "    def __init__(self):\r\n",
    "        super(Classifier, self).__init__()\r\n",
    "        self.encoder = nn.Sequential(\r\n",
    "            self.fc_block_t(773, 600),\r\n",
    "            self.fc_block_t(600, 400),\r\n",
    "            self.fc_block_t(400, 200),\r\n",
    "            self.fc_block_t(200, 100),\r\n",
    "            )\r\n",
    "        self.fc = nn.Sequential(\r\n",
    "            self.fc_block_r(100, 1024),   \r\n",
    "            self.fc_block_r(1024, 512),  \r\n",
    "            self.fc_block_r(512, 256),\r\n",
    "            self.fc_block_r(256, 7, final_layer=True)\r\n",
    "        )\r\n",
    "\r\n",
    "    def fc_block_t(self, in_dim, out_dim, dropout=0.1):\r\n",
    "        return nn.Sequential(\r\n",
    "            nn.Linear(in_dim, out_dim),\r\n",
    "            nn.Dropout(dropout),\r\n",
    "            nn.Tanh())\r\n",
    "\r\n",
    "    def fc_block_r(self, in_dim, out_dim, dropout=0.25, final_layer=False):\r\n",
    "        if not final_layer:\r\n",
    "            return nn.Sequential(\r\n",
    "                nn.Linear(in_dim, out_dim),\r\n",
    "                nn.Dropout(dropout),\r\n",
    "                nn.ReLU(True)\r\n",
    "            )\r\n",
    "        else:\r\n",
    "            return nn.Sequential(\r\n",
    "                nn.Linear(in_dim, out_dim),\r\n",
    "            )\r\n",
    "    def forward(self, x):\r\n",
    "        x = self.encoder(x)\r\n",
    "        x = self.fc(x)\r\n",
    "        return x\r\n",
    "\r\n",
    "net = Classifier().to(device)\r\n",
    "net.load_state_dict(torch.load('./model/autoencoder.pt'))"
   ]
  },
  {
   "cell_type": "markdown",
   "metadata": {},
   "source": [
    "## trivial classifier"
   ]
  },
  {
   "cell_type": "markdown",
   "metadata": {},
   "source": [
    "adam 1e-3 0.99 40"
   ]
  },
  {
   "cell_type": "code",
   "execution_count": 53,
   "metadata": {},
   "outputs": [],
   "source": [
    "class Classifier(nn.Module):\r\n",
    "    def __init__(self):\r\n",
    "        super(Classifier, self).__init__()\r\n",
    "        self.fc = nn.Sequential(\r\n",
    "            self.fc_block(773, 1024, dropout=0.5),\r\n",
    "            self.fc_block(1024, 512, dropout=0.3),\r\n",
    "            self.fc_block(512, 256, dropout=0.1),\r\n",
    "            self.fc_block(256, 7, dropout=0, final_layer=True),\r\n",
    "            )\r\n",
    "\r\n",
    "    def fc_block(self, in_dim, out_dim, dropout=0.1, final_layer=False):\r\n",
    "        if not final_layer:\r\n",
    "            return nn.Sequential(\r\n",
    "                nn.Linear(in_dim, out_dim),\r\n",
    "                nn.Dropout(dropout),\r\n",
    "                nn.ReLU(True)\r\n",
    "            )\r\n",
    "        else:\r\n",
    "            return nn.Sequential(\r\n",
    "                nn.Linear(in_dim, out_dim),\r\n",
    "                nn.Dropout(dropout)\r\n",
    "            )\r\n",
    "    def forward(self, x):\r\n",
    "        x = self.fc(x)\r\n",
    "        return x\r\n",
    "\r\n",
    "net = Classifier().to(device)"
   ]
  },
  {
   "cell_type": "code",
   "execution_count": 54,
   "metadata": {},
   "outputs": [],
   "source": [
    "sta = {x:{'epoch_acc':[], 'epoch_loss':[]} for x in ['train', 'dev']}"
   ]
  },
  {
   "cell_type": "code",
   "execution_count": 55,
   "metadata": {},
   "outputs": [],
   "source": [
    "best_acc = 1 / 7"
   ]
  },
  {
   "cell_type": "code",
   "execution_count": 56,
   "metadata": {},
   "outputs": [],
   "source": [
    "criterion = nn.CrossEntropyLoss()\r\n",
    "optimizer = optim.Adam(net.parameters(), lr = 1e-3)\r\n",
    "scheduler = optim.lr_scheduler.ExponentialLR(optimizer, 0.99)\r\n",
    "# scheduler = optim.lr_scheduler.StepLR(optimizer, 3, gamma=0.8)\r\n",
    "# scheduler = optim.lr_scheduler.CosineAnnealingLR(optimizer, 5, 1e-5)"
   ]
  },
  {
   "cell_type": "code",
   "execution_count": 57,
   "metadata": {},
   "outputs": [],
   "source": [
    "num_epochs = 100"
   ]
  },
  {
   "cell_type": "code",
   "execution_count": 59,
   "metadata": {},
   "outputs": [
    {
     "data": {
      "application/vnd.jupyter.widget-view+json": {
       "model_id": "b87d798801d840e487d47b37b38021f3",
       "version_major": 2,
       "version_minor": 0
      },
      "text/plain": [
       "  0%|          | 0/100 [00:00<?, ?it/s]"
      ]
     },
     "metadata": {},
     "output_type": "display_data"
    },
    {
     "name": "stdout",
     "output_type": "stream",
     "text": [
      "0.8483 15:29:54\n",
      "0.8666 15:30:53\n",
      "0.8743 15:31:53\n",
      "0.8779833333333333 15:32:52\n",
      "0.88225 15:33:50\n",
      "0.88695 15:34:47\n",
      "0.8888833333333334 15:35:45\n",
      "0.89045 15:36:44\n",
      "0.8927833333333334 15:37:43\n",
      "0.8933333333333333 15:38:42\n",
      "0.89335 15:39:41\n",
      "0.8945333333333333 15:40:40\n",
      "0.8963 15:41:38\n",
      "0.89705 15:42:42\n",
      "0.8960833333333333 15:43:40\n",
      "0.8982333333333333 15:44:37\n",
      "0.8976166666666666 15:45:36\n",
      "0.8962 15:46:34\n",
      "0.8985833333333333 15:47:32\n",
      "0.8997833333333334 15:48:30\n",
      "0.8989333333333334 15:49:28\n",
      "0.90065 15:50:27\n",
      "0.8992833333333333 15:51:26\n",
      "0.9011333333333333 15:52:26\n",
      "0.9008166666666667 15:53:26\n",
      "0.9021833333333333 15:54:26\n",
      "0.9028833333333334 15:55:31\n",
      "0.9014166666666666 15:56:31\n",
      "0.90125 15:57:32\n",
      "0.90265 15:58:31\n",
      "0.9024833333333333 15:59:30\n",
      "0.9041666666666667 16:00:30\n",
      "0.9060666666666667 16:01:30\n",
      "0.9066833333333333 16:02:29\n",
      "0.9047 16:03:29\n",
      "0.9034833333333333 16:04:29\n",
      "0.9056166666666666 16:05:28\n",
      "0.9059166666666667 16:06:28\n",
      "0.9053333333333333 16:07:28\n",
      "0.9057333333333333 16:08:28\n",
      "0.90425 16:09:33\n",
      "0.9053333333333333 16:10:33\n",
      "0.9065833333333333 16:11:33\n",
      "0.9071 16:12:34\n",
      "0.9058166666666667 16:13:34\n",
      "0.9061333333333333 16:14:34\n",
      "0.9083166666666667 16:15:34\n",
      "0.9059666666666667 16:16:34\n",
      "0.9062833333333333 16:17:32\n",
      "0.9079833333333334 16:18:31\n",
      "0.9081333333333333 16:19:31\n",
      "0.9069 16:20:30\n",
      "0.9074333333333333 16:21:30\n",
      "0.9065833333333333 16:22:35\n",
      "0.9072 16:23:33\n",
      "0.9088833333333334 16:24:31\n",
      "0.9060166666666667 16:25:31\n",
      "0.9070833333333334 16:26:32\n",
      "0.90785 16:27:36\n",
      "0.9086166666666666 16:28:36\n",
      "0.9089333333333334 16:29:35\n",
      "0.9091833333333333 16:30:34\n",
      "0.9081 16:31:34\n",
      "0.9084166666666667 16:32:36\n",
      "0.9074166666666666 16:33:36\n",
      "0.9086833333333333 16:34:36\n",
      "0.9098 16:35:40\n",
      "0.9074166666666666 16:36:37\n",
      "0.90925 16:37:35\n",
      "0.9092 16:38:35\n",
      "0.90925 16:39:36\n",
      "0.909 16:40:38\n",
      "0.91025 16:41:39\n",
      "0.9098333333333334 16:42:39\n",
      "0.9106166666666666 16:43:39\n",
      "0.9098166666666667 16:44:37\n",
      "0.9111166666666667 16:45:35\n",
      "0.9100166666666667 16:46:33\n",
      "0.9098666666666667 16:47:29\n",
      "0.91025 16:48:31\n",
      "0.90955 16:49:28\n",
      "0.9089166666666667 16:50:28\n",
      "0.90975 16:51:25\n",
      "0.9088 16:52:22\n",
      "0.9102666666666667 16:53:20\n",
      "0.9105333333333333 16:54:19\n",
      "0.9083166666666667 16:55:17\n",
      "0.90935 16:56:14\n",
      "0.9108333333333334 16:57:11\n",
      "0.9097333333333333 16:58:08\n",
      "0.9095333333333333 16:59:07\n",
      "0.91045 17:00:09\n",
      "0.9097666666666666 17:01:07\n",
      "0.9097 17:02:12\n",
      "0.9100333333333334 17:03:11\n",
      "0.9103166666666667 17:04:08\n",
      "0.9115333333333333 17:05:09\n",
      "0.9102666666666667 17:06:07\n",
      "0.9102333333333333 17:07:04\n",
      "0.9100666666666667 17:08:02\n"
     ]
    }
   ],
   "source": [
    "for epoch in trange(num_epochs):\r\n",
    "    for phase in ['train', 'dev']:\r\n",
    "        if phase == 'train':\r\n",
    "            net.train()  \r\n",
    "        else:\r\n",
    "            net.eval()   \r\n",
    "        running_loss = 0.0\r\n",
    "        running_corrects = 0\r\n",
    "        for batch in dataloaders[phase]:\r\n",
    "            \r\n",
    "            inputs, labels = batch[0].to(device), batch[1].to(device)\r\n",
    "            # zero the parameter gradients\r\n",
    "            optimizer.zero_grad()\r\n",
    "\r\n",
    "            # forward + backward + optimize\r\n",
    "            with torch.set_grad_enabled(phase == 'train'):\r\n",
    "                outputs = net(inputs)\r\n",
    "                top_acc = topk_acc(outputs, labels, 2)\r\n",
    "                loss = criterion(outputs, labels)\r\n",
    "                # backward + optimize only if in training phase\r\n",
    "                if phase == 'train':\r\n",
    "                    loss.backward()\r\n",
    "                    optimizer.step()\r\n",
    "\r\n",
    "            running_loss += loss.item() * inputs.size(0)\r\n",
    "            running_corrects += top_acc\r\n",
    "\r\n",
    "        if phase == 'train':\r\n",
    "            scheduler.step()\r\n",
    "\r\n",
    "        epoch_loss = running_loss / dataset_sizes[phase]\r\n",
    "        epoch_acc = running_corrects / dataset_sizes[phase]\r\n",
    "\r\n",
    "\r\n",
    "        # statistics recording\r\n",
    "        sta[phase]['epoch_acc'].append(epoch_acc)\r\n",
    "        sta[phase]['epoch_loss'].append(epoch_loss)\r\n",
    "\r\n",
    "        # show the current dev acc and time\r\n",
    "        if phase == 'dev':\r\n",
    "            print(epoch_acc, time.strftime(\"%H:%M:%S\", time.localtime()))\r\n",
    "        # record parameters of the best net\r\n",
    "        if phase == 'dev' and epoch_acc > best_acc:\r\n",
    "            best_acc = epoch_acc\r\n",
    "            best_net_wts = copy.deepcopy(net.state_dict())"
   ]
  },
  {
   "cell_type": "code",
   "execution_count": 50,
   "metadata": {},
   "outputs": [
    {
     "data": {
      "text/plain": [
       "<All keys matched successfully>"
      ]
     },
     "execution_count": 50,
     "metadata": {},
     "output_type": "execute_result"
    }
   ],
   "source": [
    "net.load_state_dict(best_net_wts)"
   ]
  },
  {
   "cell_type": "code",
   "execution_count": null,
   "metadata": {},
   "outputs": [],
   "source": [
    "torch.save(net.state_dict(), './model/AE.pt')"
   ]
  },
  {
   "cell_type": "code",
   "execution_count": 38,
   "metadata": {},
   "outputs": [],
   "source": [
    "torch.save(sta, './model/ae_c.pt')"
   ]
  },
  {
   "cell_type": "code",
   "execution_count": 19,
   "metadata": {},
   "outputs": [],
   "source": [
    "from util import plot_sta, plot_cm"
   ]
  },
  {
   "cell_type": "code",
   "execution_count": 60,
   "metadata": {},
   "outputs": [
    {
     "data": {
      "image/png": "[encoded data removed]",
      "text/plain": [
       "<Figure size 864x288 with 2 Axes>"
      ]
     },
     "metadata": {
      "needs_background": "light"
     },
     "output_type": "display_data"
    },
    {
     "name": "stdout",
     "output_type": "stream",
     "text": [
      "max train acc: 0.9001469387755102\n",
      "max dev acc: 0.9115333333333333 at epoch 97\n",
      "corresponding train acc: 0.899859693877551\n"
     ]
    }
   ],
   "source": [
    "plot_sta(sta)"
   ]
  },
  {
   "cell_type": "code",
   "execution_count": 62,
   "metadata": {},
   "outputs": [],
   "source": [
    "torch.save(sta, './model/trivial_c.pt')"
   ]
  },
  {
   "cell_type": "code",
   "execution_count": 61,
   "metadata": {},
   "outputs": [
    {
     "data": {
      "text/plain": [
       "0.9090166666666667"
      ]
     },
     "execution_count": 61,
     "metadata": {},
     "output_type": "execute_result"
    }
   ],
   "source": [
    "net.eval()   \r\n",
    "running_corrects = 0\r\n",
    "phase = 'test'\r\n",
    "with torch.set_grad_enabled(False):\r\n",
    "    for batch in dataloaders[phase]:\r\n",
    "        inputs, labels = batch[0].to(device), batch[1].to(device)\r\n",
    "        outputs = net(inputs)\r\n",
    "        top_acc = topk_acc(outputs, labels, 2)\r\n",
    "        running_corrects += top_acc\r\n",
    "    epoch_acc = running_corrects / dataset_sizes[phase]\r\n",
    "epoch_acc"
   ]
  },
  {
   "cell_type": "code",
   "execution_count": 52,
   "metadata": {},
   "outputs": [
    {
     "data": {
      "image/png": "[encoded data removed]",
      "text/plain": [
       "<Figure size 720x720 with 2 Axes>"
      ]
     },
     "metadata": {
      "needs_background": "light"
     },
     "output_type": "display_data"
    }
   ],
   "source": [
    "plot_cm(net, dataloaders['test'])"
   ]
  },
  {
   "cell_type": "code",
   "execution_count": null,
   "metadata": {},
   "outputs": [],
   "source": []
  }
 ],
 "metadata": {
  "interpreter": {
   "hash": "400397532f72b493267ca1781d54152da712f3951ae835f450f9de8d9f08a4f7"
  },
  "kernelspec": {
   "display_name": "Python 3.8.10 64-bit ('base': conda)",
   "name": "python3"
  },
  "language_info": {
   "name": "python",
   "version": ""
  },
  "metadata": {
   "interpreter": {
    "hash": "0c5ac6f6d7c0cefb1588a3441a33c5f10879537f65955960d38f8e893638bab3"
   }
  }
 },
 "nbformat": 4,
 "nbformat_minor": 2
}