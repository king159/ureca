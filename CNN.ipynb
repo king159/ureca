{
 "cells": [
  {
   "cell_type": "markdown",
   "metadata": {},
   "source": [
    "# CNN"
   ]
  },
  {
   "cell_type": "code",
   "execution_count": 1,
   "metadata": {},
   "outputs": [],
   "source": [
    "import time\n",
    "import copy\n",
    "import random\n",
    "import torch\n",
    "from tqdm.notebook import trange, tqdm\n",
    "from util import topk_acc\n",
    "import torch.nn as nn\n",
    "import torch.nn.functional as F"
   ]
  },
  {
   "cell_type": "code",
   "execution_count": 2,
   "metadata": {},
   "outputs": [],
   "source": [
    "device = torch.device(\"cuda\")"
   ]
  },
  {
   "cell_type": "code",
   "execution_count": 3,
   "metadata": {},
   "outputs": [],
   "source": [
    "torch.manual_seed(0)\n",
    "random.seed(0)"
   ]
  },
  {
   "cell_type": "code",
   "execution_count": 4,
   "metadata": {},
   "outputs": [],
   "source": [
    "torch.backends.cudnn.benchmark = True"
   ]
  },
  {
   "cell_type": "code",
   "execution_count": 5,
   "metadata": {},
   "outputs": [],
   "source": [
    "# 568s\r\n",
    "data_pt = torch.load('./data/cnn2_c.pt')"
   ]
  },
  {
   "cell_type": "code",
   "execution_count": 7,
   "metadata": {},
   "outputs": [],
   "source": [
    "num = len(data_pt)\r\n",
    "\r\n",
    "train_set, dev_set, test_set = torch.utils.data.random_split(data_pt, [int(num * 0.98), int(num * 0.01), int(num * 0.01)])\r\n",
    "\r\n",
    "datasets = {'train':train_set, 'dev':dev_set, 'test':test_set}\r\n",
    "dataset_sizes = {x:len(datasets[x]) for x in ['train', 'dev','test']} \r\n",
    "dataloaders = {x:torch.utils.data.DataLoader(datasets[x], batch_size=1024,\r\n",
    "                                         shuffle=True, pin_memory=True) for x in ['train', 'dev', 'test']} "
   ]
  },
  {
   "cell_type": "markdown",
   "metadata": {},
   "source": [
    "# Classification"
   ]
  },
  {
   "cell_type": "code",
   "execution_count": 38,
   "metadata": {},
   "outputs": [],
   "source": [
    "class Net(nn.Module):\r\n",
    "    def __init__(self):\r\n",
    "        super(Net, self).__init__()\r\n",
    "        # self.up = nn.Upsample(scale_factor=2, mode='nearest')\r\n",
    "        self.cnn = nn.Sequential(\r\n",
    "            self.cnn_block(2, 64), #8*8\r\n",
    "            self.cnn_block(64, 128), #4*4\r\n",
    "            self.cnn_block(128, 256), #2*2\r\n",
    "            )\r\n",
    "        self.fc = nn.Sequential(\r\n",
    "            self.fc_block(256, 7, final_layer=True),\r\n",
    "            # self.fc_block(128, 7, ),\r\n",
    "        )\r\n",
    "        self.avgpool = nn.AdaptiveAvgPool2d((1,1))\r\n",
    "    def cnn_block(self, input_channels, output_channels):\r\n",
    "        return nn.Sequential(\r\n",
    "                nn.Conv2d(input_channels, output_channels, (3,3), padding = 1),\r\n",
    "                nn.BatchNorm2d(output_channels),\r\n",
    "                nn.MaxPool2d((2,2)),\r\n",
    "                nn.ReLU(True),\r\n",
    "                )\r\n",
    "    def fc_block(self, input_dim, output_dim, dropout=0.5, final_layer=False):\r\n",
    "        if not final_layer:\r\n",
    "            return nn.Sequential(\r\n",
    "                nn.Linear(input_dim, output_dim),\r\n",
    "                nn.Dropout(dropout),\r\n",
    "                nn.ReLU(True),\r\n",
    "            )\r\n",
    "        else:\r\n",
    "            return nn.Sequential(\r\n",
    "                nn.Linear(input_dim, output_dim),\r\n",
    "                nn.Dropout(dropout),\r\n",
    "            )\r\n",
    "    def forward(self, x):\r\n",
    "        # x = self.up(x) \r\n",
    "        x = self.cnn(x)\r\n",
    "        # x = self.avgpool(x)\r\n",
    "        x = torch.flatten(x, 1)\r\n",
    "        x = self.fc(x)\r\n",
    "        return x\r\n",
    "\r\n",
    "net = Net().to(device)"
   ]
  },
  {
   "cell_type": "code",
   "execution_count": 39,
   "metadata": {},
   "outputs": [],
   "source": [
    "sta = {x:{'epoch_acc':[], 'epoch_loss':[]} for x in ['train','dev']}"
   ]
  },
  {
   "cell_type": "code",
   "execution_count": 40,
   "metadata": {},
   "outputs": [],
   "source": [
    "best_acc = 1/7"
   ]
  },
  {
   "cell_type": "code",
   "execution_count": 42,
   "metadata": {},
   "outputs": [],
   "source": [
    "import torch.optim as optim\r\n",
    "criterion = nn.CrossEntropyLoss()\r\n",
    "optimizer = optim.Adam(net.parameters(), lr = 1e-3)\r\n",
    "# optimizer = optim.SGD(net.parameters(), lr=1e-2, momentum=0.9)\r\n",
    "# scheduler = optim.lr_scheduler.ExponentialLR(optimizer, 0.98)\r\n",
    "scheduler = optim.lr_scheduler.CosineAnnealingLR(optimizer, 5, eta_min=1e-5, last_epoch=-1)"
   ]
  },
  {
   "cell_type": "code",
   "execution_count": 43,
   "metadata": {},
   "outputs": [],
   "source": [
    "num_epochs = 20"
   ]
  },
  {
   "cell_type": "code",
   "execution_count": 44,
   "metadata": {},
   "outputs": [
    {
     "data": {
      "application/vnd.jupyter.widget-view+json": {
       "model_id": "31062adaee1d40cf86ba41b0e252ddd0",
       "version_major": 2,
       "version_minor": 0
      },
      "text/plain": [
       "  0%|          | 0/20 [00:00<?, ?it/s]"
      ]
     },
     "metadata": {},
     "output_type": "display_data"
    },
    {
     "name": "stdout",
     "output_type": "stream",
     "text": [
      "77.107% 17:13:22\n",
      "78.328% 17:16:12\n",
      "78.948% 17:19:08\n",
      "79.598% 17:22:10\n",
      "80.043% 17:25:22\n",
      "80.188% 17:28:17\n"
     ]
    }
   ],
   "source": [
    "for epoch in trange(num_epochs):\r\n",
    "    for phase in ['train', 'dev']:\r\n",
    "        if phase == 'train':\r\n",
    "            net.train()  \r\n",
    "        else:\r\n",
    "            net.eval()   \r\n",
    "        running_loss = 0.0\r\n",
    "        running_corrects = 0\r\n",
    "        for batch in dataloaders[phase]:\r\n",
    "            \r\n",
    "            inputs, labels = batch[0].to(device), batch[1].to(device)\r\n",
    "            # zero the parameter gradients\r\n",
    "            optimizer.zero_grad()\r\n",
    "\r\n",
    "            # forward + backward + optimize\r\n",
    "            with torch.set_grad_enabled(phase == 'train'):\r\n",
    "                outputs = net(inputs)\r\n",
    "                top_acc = topk_acc(outputs, labels, 2)\r\n",
    "                loss = criterion(outputs, labels)\r\n",
    "                # backward + optimize only if in training phase\r\n",
    "                if phase == 'train':\r\n",
    "                    loss.backward()\r\n",
    "                    optimizer.step()\r\n",
    "\r\n",
    "            running_loss += loss.item() * inputs.size(0)\r\n",
    "            running_corrects += top_acc\r\n",
    "\r\n",
    "        if phase == 'train':\r\n",
    "            scheduler.step()\r\n",
    "\r\n",
    "        epoch_loss = running_loss / dataset_sizes[phase]\r\n",
    "        epoch_acc = running_corrects / dataset_sizes[phase]\r\n",
    "\r\n",
    "\r\n",
    "        # statistics recording\r\n",
    "        sta[phase]['epoch_acc'].append(epoch_acc)\r\n",
    "        sta[phase]['epoch_loss'].append(epoch_loss)\r\n",
    "\r\n",
    "        # show the current dev acc and time\r\n",
    "        if phase == 'dev':\r\n",
    "            print('{:.3%}'.format(epoch_acc), time.strftime(\"%H:%M:%S\", time.localtime()))\r\n",
    "        # record parameters of the best net\r\n",
    "        if phase == 'dev' and epoch_acc > best_acc:\r\n",
    "            best_acc = epoch_acc\r\n",
    "            best_net_wts = copy.deepcopy(net.state_dict())"
   ]
  },
  {
   "cell_type": "markdown",
   "metadata": {},
   "source": [
    "## Result"
   ]
  },
  {
   "cell_type": "code",
   "execution_count": 16,
   "metadata": {},
   "outputs": [],
   "source": [
    "from util import plot_cm, plot_sta"
   ]
  },
  {
   "cell_type": "code",
   "execution_count": 36,
   "metadata": {},
   "outputs": [
    {
     "data": {
      "image/png": "[encoded data removed]",
      "text/plain": [
       "<Figure size 864x288 with 2 Axes>"
      ]
     },
     "metadata": {
      "needs_background": "light"
     },
     "output_type": "display_data"
    },
    {
     "name": "stdout",
     "output_type": "stream",
     "text": [
      "max train acc: 0.5849630952380952\n",
      "max dev acc: 0.814725 at epoch 6\n",
      "corresponding train acc: 0.5846846938775511\n"
     ]
    }
   ],
   "source": [
    "plot_sta(sta)"
   ]
  },
  {
   "cell_type": "code",
   "execution_count": null,
   "metadata": {},
   "outputs": [],
   "source": [
    "plot_cm(net, dataloaders['train'])"
   ]
  },
  {
   "cell_type": "code",
   "execution_count": null,
   "metadata": {},
   "outputs": [],
   "source": [
    "torch.save(net.state_dict(), './model/cnn1.pt')"
   ]
  }
 ],
 "metadata": {
  "interpreter": {
   "hash": "400397532f72b493267ca1781d54152da712f3951ae835f450f9de8d9f08a4f7"
  },
  "kernelspec": {
   "display_name": "Python 3.8.10 64-bit ('base': conda)",
   "name": "python3"
  },
  "language_info": {
   "codemirror_mode": {
    "name": "ipython",
    "version": 3
   },
   "file_extension": ".py",
   "mimetype": "text/x-python",
   "name": "python",
   "nbconvert_exporter": "python",
   "pygments_lexer": "ipython3",
   "version": "3.8.10"
  },
  "metadata": {
   "interpreter": {
    "hash": "0c5ac6f6d7c0cefb1588a3441a33c5f10879537f65955960d38f8e893638bab3"
   }
  }
 },
 "nbformat": 4,
 "nbformat_minor": 2
}