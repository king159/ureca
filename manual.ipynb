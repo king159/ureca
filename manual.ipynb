{
 "cells": [
  {
   "cell_type": "markdown",
   "metadata": {},
   "source": [
    "# Manual"
   ]
  },
  {
   "cell_type": "code",
   "execution_count": 8,
   "metadata": {},
   "outputs": [],
   "source": [
    "import time\n",
    "import copy\n",
    "import torch\n",
    "import torch.nn as nn\n",
    "from tqdm.notebook import trange\n",
    "import torch.optim as optim\n",
    "from util import topk_acc"
   ]
  },
  {
   "cell_type": "markdown",
   "metadata": {},
   "source": [
    "## data preparation"
   ]
  },
  {
   "cell_type": "code",
   "execution_count": 2,
   "metadata": {},
   "outputs": [],
   "source": [
    "# 454s\n",
    "data_pt = torch.load('./data/manual_c.pt')"
   ]
  },
  {
   "cell_type": "code",
   "execution_count": 4,
   "metadata": {},
   "outputs": [],
   "source": [
    "num = len(data_pt)\n",
    "train_set, dev_set, test_set = torch.utils.data.random_split(data_pt, [int(num * 0.98), int(num * 0.01), int(num * 0.01)])\n",
    "datasets = {'train':train_set, 'dev':dev_set, 'test':test_set}\n",
    "dataset_sizes = {x:len(datasets[x]) for x in ['train', 'dev','test']} \n",
    "dataloaders = {x:torch.utils.data.DataLoader(datasets[x], batch_size=1024,\n",
    "shuffle=True, pin_memory=True) for x in ['train', 'dev', 'test']} "
   ]
  },
  {
   "cell_type": "code",
   "execution_count": 5,
   "metadata": {},
   "outputs": [],
   "source": [
    "device = torch.device(\"cuda\")"
   ]
  },
  {
   "cell_type": "markdown",
   "metadata": {},
   "source": [
    "## FC architecture"
   ]
  },
  {
   "cell_type": "code",
   "execution_count": 28,
   "metadata": {},
   "outputs": [],
   "source": [
    "import torch.nn as nn\n",
    "import torch.nn.functional as F\n",
    "\n",
    "\n",
    "class Net(nn.Module):\n",
    "    def __init__(self):\n",
    "        super(Net, self).__init__()\n",
    "\n",
    "        self.fc1_1 = self.fc_block(19, 19)\n",
    "        self.fc1_2 = self.fc_block(216, 216)\n",
    "        self.fc1_3 = self.fc_block(128, 128)\n",
    "        self.fc2 = self.fc_block(363, 256, 0.25)\n",
    "        self.fc3 = self.fc_block(256, 7, final_layer=True)\n",
    "\n",
    "    def fc_block(self, input_dims, output_dims, d=0.0, final_layer=False):\n",
    "        if not final_layer:\n",
    "            return nn.Sequential(\n",
    "                    nn.Linear(input_dims, output_dims),\n",
    "                    nn.Dropout(d),\n",
    "                    nn.ReLU(True),\n",
    "                    )\n",
    "        else:\n",
    "            return nn.Sequential(\n",
    "                    nn.Linear(input_dims, output_dims),\n",
    "                    nn.Dropout(d)\n",
    "                    )\n",
    "\n",
    "    def forward(self, x):\n",
    "        x = torch.split(x, [19, 216, 128] , dim = 1)\n",
    "        x_1 = self.fc1_1(x[0])\n",
    "        x_2 = self.fc1_2(x[1])\n",
    "        x_3 = self.fc1_3(x[2])\n",
    "        x = torch.cat([x_1, x_2, x_3] , dim = 1)\n",
    "        x = self.fc2(x)\n",
    "        x = self.fc3(x)\n",
    "        return x\n",
    "\n",
    "net = Net().to(device)"
   ]
  },
  {
   "cell_type": "markdown",
   "metadata": {},
   "source": [
    "## training"
   ]
  },
  {
   "cell_type": "markdown",
   "metadata": {},
   "source": [
    "10 5e-2 0.98\n",
    "10 1e-2"
   ]
  },
  {
   "cell_type": "code",
   "execution_count": 29,
   "metadata": {},
   "outputs": [],
   "source": [
    "criterion = nn.CrossEntropyLoss()\n",
    "optimizer = optim.Adam(net.parameters(), lr = 1e-3)\n",
    "scheduler = optim.lr_scheduler.ExponentialLR(optimizer, 0.98)"
   ]
  },
  {
   "cell_type": "code",
   "execution_count": 30,
   "metadata": {},
   "outputs": [],
   "source": [
    "sta = {x :{'epoch_acc':[], 'epoch_loss':[]} for x in ['train','dev']}"
   ]
  },
  {
   "cell_type": "code",
   "execution_count": 36,
   "metadata": {},
   "outputs": [],
   "source": [
    "num_epochs = 10"
   ]
  },
  {
   "cell_type": "code",
   "execution_count": 32,
   "metadata": {},
   "outputs": [],
   "source": [
    "best_acc = 1 / 7"
   ]
  },
  {
   "cell_type": "code",
   "execution_count": 37,
   "metadata": {},
   "outputs": [
    {
     "data": {
      "application/vnd.jupyter.widget-view+json": {
       "model_id": "adfa5fc8994d47529f39006654281443",
       "version_major": 2,
       "version_minor": 0
      },
      "text/plain": [
       "  0%|          | 0/10 [00:00<?, ?it/s]"
      ]
     },
     "metadata": {},
     "output_type": "display_data"
    },
    {
     "name": "stdout",
     "output_type": "stream",
     "text": [
      "0.8584333333333334 17:34:51\n",
      "0.8581833333333333 17:35:40\n",
      "0.8581 17:36:29\n",
      "0.8580166666666666 17:37:18\n",
      "0.85805 17:38:08\n",
      "0.8588 17:39:03\n",
      "0.8590833333333333 17:39:51\n",
      "0.8589833333333333 17:40:40\n",
      "0.85855 17:41:30\n",
      "0.85855 17:42:17\n"
     ]
    }
   ],
   "source": [
    "for epoch in trange(num_epochs):\n",
    "    for phase in ['train', 'dev']:\n",
    "        if phase == 'train':\n",
    "            net.train()  \n",
    "        else:\n",
    "            net.eval()   \n",
    "        running_loss = 0.0\n",
    "        running_corrects = 0\n",
    "        for batch in dataloaders[phase]:\n",
    "            \n",
    "            inputs, labels = batch[0].to(device), batch[1].to(device)\n",
    "            # zero the parameter gradients\n",
    "            optimizer.zero_grad()\n",
    "\n",
    "            # forward + backward + optimize\n",
    "            with torch.set_grad_enabled(phase == 'train'):\n",
    "                outputs = net(inputs)\n",
    "                top_acc = topk_acc(outputs, labels, 2)\n",
    "                loss = criterion(outputs, labels)\n",
    "                # backward + optimize only if in training phase\n",
    "                if phase == 'train':\n",
    "                    loss.backward()\n",
    "                    optimizer.step()\n",
    "\n",
    "            running_loss += loss.item() * inputs.size(0)\n",
    "            running_corrects += top_acc\n",
    "\n",
    "        if phase == 'train':\n",
    "            scheduler.step()\n",
    "\n",
    "        epoch_loss = running_loss / dataset_sizes[phase]\n",
    "        epoch_acc = running_corrects / dataset_sizes[phase]\n",
    "\n",
    "\n",
    "        # statistics recording\n",
    "        sta[phase]['epoch_acc'].append(epoch_acc)\n",
    "        sta[phase]['epoch_loss'].append(epoch_loss)\n",
    "\n",
    "        # show the current dev acc and time\n",
    "        if phase == 'dev':\n",
    "            print(epoch_acc, time.strftime(\"%H:%M:%S\", time.localtime()))\n",
    "        # record parameters of the best net\n",
    "        if phase == 'dev' and epoch_acc > best_acc:\n",
    "            best_acc = epoch_acc\n",
    "            best_net_wts = copy.deepcopy(net.state_dict())"
   ]
  },
  {
   "cell_type": "code",
   "execution_count": 39,
   "metadata": {},
   "outputs": [
    {
     "data": {
      "text/plain": [
       "<All keys matched successfully>"
      ]
     },
     "execution_count": 39,
     "metadata": {},
     "output_type": "execute_result"
    }
   ],
   "source": [
    "net.load_state_dict(best_net_wts)\n"
   ]
  },
  {
   "cell_type": "code",
   "execution_count": 14,
   "metadata": {},
   "outputs": [],
   "source": [
    "from util import plot_sta, plot_cm"
   ]
  },
  {
   "cell_type": "code",
   "execution_count": 38,
   "metadata": {},
   "outputs": [
    {
     "data": {
      "image/png": "[encoded data removed]",
      "text/plain": [
       "<Figure size 864x288 with 2 Axes>"
      ]
     },
     "metadata": {
      "needs_background": "light"
     },
     "output_type": "display_data"
    },
    {
     "name": "stdout",
     "output_type": "stream",
     "text": [
      "max train acc: 0.8615010204081632\n",
      "max dev acc: 0.8591 at epoch 43\n",
      "corresponding train acc: 0.8596113945578231\n"
     ]
    }
   ],
   "source": [
    "plot_sta(sta)"
   ]
  },
  {
   "cell_type": "code",
   "execution_count": 40,
   "metadata": {},
   "outputs": [
    {
     "data": {
      "text/plain": [
       "0.8611333333333333"
      ]
     },
     "execution_count": 40,
     "metadata": {},
     "output_type": "execute_result"
    }
   ],
   "source": [
    "net.eval()   \n",
    "running_corrects = 0\n",
    "phase = 'test'\n",
    "with torch.set_grad_enabled(False):\n",
    "    for batch in dataloaders[phase]:\n",
    "        inputs, labels = batch[0].to(device), batch[1].to(device)\n",
    "        outputs = net(inputs)\n",
    "        top_acc = topk_acc(outputs, labels, 2)\n",
    "        running_corrects += top_acc\n",
    "    epoch_acc = running_corrects / dataset_sizes[phase]\n",
    "epoch_acc"
   ]
  },
  {
   "cell_type": "code",
   "execution_count": 41,
   "metadata": {},
   "outputs": [],
   "source": [
    "torch.save(sta,'./model/man_c.pt')"
   ]
  },
  {
   "cell_type": "code",
   "execution_count": null,
   "metadata": {},
   "outputs": [],
   "source": []
  }
 ],
 "metadata": {
  "interpreter": {
   "hash": "400397532f72b493267ca1781d54152da712f3951ae835f450f9de8d9f08a4f7"
  },
  "kernelspec": {
   "display_name": "Python 3",
   "language": "python",
   "name": "python3"
  },
  "language_info": {
   "codemirror_mode": {
    "name": "ipython",
    "version": 3
   },
   "file_extension": ".py",
   "mimetype": "text/x-python",
   "name": "python",
   "nbconvert_exporter": "python",
   "pygments_lexer": "ipython3",
   "version": "3.8.10"
  }
 },
 "nbformat": 4,
 "nbformat_minor": 2
}
